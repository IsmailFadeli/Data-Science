{
 "cells": [
  {
   "cell_type": "markdown",
   "metadata": {},
   "source": [
    "# Python Basics"
   ]
  },
  {
   "cell_type": "code",
   "execution_count": 2,
   "metadata": {},
   "outputs": [
    {
     "name": "stdout",
     "output_type": "stream",
     "text": [
      "[[ 1.         -0.39204539]\n",
      " [-0.39204539  1.        ]]\n"
     ]
    }
   ],
   "source": [
    "import numpy as np \n",
    "import matplotlib.pyplot as plt \n",
    "x = np.array([-4, -1, 0, 1, 3])\n",
    "y = np.array([4, 1, -2, 1, 2])\n",
    "corrcoef = np.corrcoef(x, y)\n",
    "print(corrcoef)"
   ]
  },
  {
   "cell_type": "code",
   "execution_count": 7,
   "metadata": {},
   "outputs": [
    {
     "name": "stdout",
     "output_type": "stream",
     "text": [
      "Msss\n"
     ]
    }
   ],
   "source": [
    "s = 'msss'\n",
    "c = s.count('i',10 )\n",
    "m = s.capitalize()\n",
    "print(m)"
   ]
  },
  {
   "cell_type": "markdown",
   "metadata": {},
   "source": [
    "### Josephus\n",
    "\n",
    "Josephus is a theoretical problem in computer science. The problem involves a group of people standing in a circle, awaiting execution.\n"
   ]
  },
  {
   "cell_type": "code",
   "execution_count": 11,
   "metadata": {},
   "outputs": [],
   "source": [
    "def josephus(n, k):\n",
    "    '''\n",
    "    Create a list of the numbers from 1 to n, representing the people in the circle.\n",
    "    '''\n",
    "    m = list(range(1, n + 1))\n",
    "    '''\n",
    "    Create an empty list to store the order in which the people are eliminated.\n",
    "    '''\n",
    "    ans = []\n",
    "    '''\n",
    "    Initialise a variable i to keep track of the current position in the list.\n",
    "    '''\n",
    "    i = 0\n",
    "    '''\n",
    "    loop until there are no more people left in the circle.\n",
    "    '''\n",
    "    while m:\n",
    "        # Calculate the index of the person to eliminate.\n",
    "        i = (i + k - 1) %len(m)\n",
    "        '''\n",
    "        Pop the person from the list\n",
    "        and add them to the elimination order.\n",
    "        '''\n",
    "\n",
    "    ans.append(m.pop(i))\n",
    "    # return the elimination order\n",
    "    return ans\n",
    "\n"
   ]
  },
  {
   "cell_type": "markdown",
   "metadata": {},
   "source": [
    "### Reaching a Point in Lattice Path\n",
    "Let the point (x, y) be in a lattice grid that consisted of the pairs of natural numbers.\n",
    "and one want to reach to point (0,0). At each point, the movement must be either left or down. Write a \n",
    "function that counts the highest number of states that can be passed so that the point does not exceed the coordinates in the taboo list. As input, x and y are the coordinates and \"tabu\" is the list of forbidden points. For some inputs.\n",
    "#### Algorithm\n",
    "\n",
    "The algorithm is as follows: \n",
    "1. It takes row, col, and tabu.\n",
    "2. Create a 2D array paths of size (row+1) * (col+2)"
   ]
  },
  {
   "cell_type": "markdown",
   "metadata": {},
   "source": [
    "### Brussel Choice Problem\n",
    "The function takes positive integers n, mink, and maxk as input parameters and generates a sorted list of all positive integers n for which there exists a subset m that can take on values of either 2 times m or the fraction m/2. The resulting list is required to be in ascending order while ensuring that the subset m falls within the range of mink and maxk."
   ]
  },
  {
   "cell_type": "code",
   "execution_count": 12,
   "metadata": {},
   "outputs": [],
   "source": [
    "def insertionn_sort(arr):\n",
    "    for i in range(1, len(arr)):\n",
    "        k = arr[i]\n",
    "        j = i - 1\n",
    "        while j >= 0 and k < arr[j]:\n",
    "            arr[j + 1] = arr[j]\n",
    "            j -= 1\n",
    "        arr[ j + 1] = k\n",
    "    return arr\n",
    "\n",
    "def brussels_choice_problem(n, min_k, max_k):\n",
    "    res = []\n",
    "    digits = [int (d) for d in str(n)]\n",
    "    for k in range(min_k, max_k+1):\n",
    "        d = int(''.join(str(d)\n",
    "                        for d in digits[i:i+k]))\n",
    "        if d % 2 == 0:\n",
    "            hd = d // 2\n",
    "            new_digits = digits[:i] + \\\n",
    "            [int (d) for d in str(hd)] + digits[i + k:]\n",
    "            new_num = int(''.join(str(d)\n",
    "                                  for d in new_digits))\n",
    "            res.append(new_num)\n",
    "        nd = d * 2\n",
    "        new_digits = digits[:i] + \\\n",
    "        [int(d) for d in str(nd)] + digits [i + k:]\n",
    "       \n",
    "    return res"
   ]
  },
  {
   "cell_type": "markdown",
   "metadata": {},
   "source": [
    "### The Brussel Choice Problem\n",
    "The function takes a positive integer n for which there exists a subset m that take on values of eother 2 times m or the fraction m/2. The list is required to be in ascending order while ensuring that the subset m falls between mink and maxk.\n",
    "#### Algorithm\n",
    "The steps for the algorithm are as follows:\n",
    "1. The inputs are \"n, mink, maxk\"\n",
    "2. Initialize an empty list 'result'\n",
    "3. Convert the inpput integer 'n' to a list of its digits using list comprehension, save it to the variable 'digits'\n",
    "4. Iterate over 'k' from 'mink' to 'maxk+1'\n",
    "5. For each value of 'k', iterate over 'i' from 0 to 'len(digits)-k+1'\n",
    "Extract the sublist of digits from index 'i' to 'i+K-1', convert it to an integer and save it to the variable 'digit'\n",
    "6. Check if 'digit' is even. If so, compute half of 'digit' and save it to the variable 'half_ digit'"
   ]
  },
  {
   "cell_type": "code",
   "execution_count": 14,
   "metadata": {},
   "outputs": [],
   "source": [
    "def insertion_sort(arr):\n",
    "    for i in range (1, len(arr)):\n",
    "        k = arr[i]\n",
    "        j = i - 1\n",
    "        while j >= 0 and k < arr[j]:\n",
    "            arr[j + 1] = arr[j]\n",
    "            j -= 1\n",
    "        arr[j + 1] = k\n",
    "    return arr\n"
   ]
  }
 ],
 "metadata": {
  "kernelspec": {
   "display_name": "Python 3",
   "language": "python",
   "name": "python3"
  },
  "language_info": {
   "codemirror_mode": {
    "name": "ipython",
    "version": 3
   },
   "file_extension": ".py",
   "mimetype": "text/x-python",
   "name": "python",
   "nbconvert_exporter": "python",
   "pygments_lexer": "ipython3",
   "version": "3.12.1"
  }
 },
 "nbformat": 4,
 "nbformat_minor": 2
}
